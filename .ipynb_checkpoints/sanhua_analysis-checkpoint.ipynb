{
 "cells": [
  {
   "cell_type": "markdown",
   "id": "5d79858b",
   "metadata": {},
   "source": [
    "#### 引入各种包"
   ]
  },
  {
   "cell_type": "code",
   "execution_count": null,
   "id": "bc2c1305",
   "metadata": {},
   "outputs": [],
   "source": [
    "import pandas as pd\n",
    "import numpy as np\n",
    "from openpyxl import load_workbook\n",
    "from openpyxl.styles import PatternFill \n",
    "import openpyxl as op\n",
    "import xlwings\n",
    "import os"
   ]
  },
  {
   "cell_type": "markdown",
   "id": "a0762f14",
   "metadata": {},
   "source": [
    "<table><tr><td bgcolor=yellow><font face=\"黑体\" color=red size=4> 1.在此处括号内手动输入需要哪三个月。例如，需要3，4，5月的数据的话，a = \"3\", b = \"4\", c = \"5\".最后output是所需文件</font></td></tr></table> "
   ]
  },
  {
   "cell_type": "code",
   "execution_count": null,
   "id": "17e0b8d8",
   "metadata": {},
   "outputs": [],
   "source": [
    "a = \"3\"\n",
    "b = \"4\"\n",
    "c = \"5\""
   ]
  },
  {
   "cell_type": "code",
   "execution_count": null,
   "id": "fc859844",
   "metadata": {},
   "outputs": [],
   "source": [
    "need_a = f'2023.{a}月计划数量'\n",
    "need_b = f'2023.{b}月计划数量'\n",
    "need_c = f'2023.{c}月计划数量'\n",
    "\n",
    "\n",
    "fold_yuanbi = f'2023.{a}月销售单价（原币）'\n",
    "fold_xiaoshou = f'2023.{a}月销售金额'\n"
   ]
  },
  {
   "cell_type": "markdown",
   "id": "8bd000a7",
   "metadata": {},
   "source": [
    "<table><tr><td bgcolor=yellow><font face=\"黑体\" color=red size=4> 2. 在此处冒号内手动输入需要看哪个业务员</font></td></tr></table>"
   ]
  },
  {
   "cell_type": "code",
   "execution_count": null,
   "id": "0b3ce059",
   "metadata": {},
   "outputs": [],
   "source": [
    "#你要看哪些业务员的\n",
    "sales = [\"廖剑涛/Kirk Kralapp/Joana\"]"
   ]
  },
  {
   "cell_type": "code",
   "execution_count": null,
   "id": "574e5681",
   "metadata": {},
   "outputs": [],
   "source": [
    "input_workbook = load_workbook(\"Exported_Part_Release_Data_Bulk.xlsx\",data_only=False)\n",
    "input_workbook.remove(input_workbook[\"Matrix\"])\n",
    "input_workbook.save(filename = 'Exported_Part_Release_Data_Bulk2.xlsx')\n",
    "input_workbook.close() "
   ]
  },
  {
   "cell_type": "code",
   "execution_count": null,
   "id": "3f405c11",
   "metadata": {},
   "outputs": [],
   "source": [
    "data_xls = pd.read_excel('Exported_Part_Release_Data_Bulk2.xlsx', index_col=0)\n",
    "data_xls.to_csv('mydata.csv', encoding='utf-8')"
   ]
  },
  {
   "cell_type": "markdown",
   "id": "9e687776",
   "metadata": {},
   "source": [
    "#### 读入从tesla portal上下载的数据并把第7列改为日期格式"
   ]
  },
  {
   "cell_type": "code",
   "execution_count": null,
   "id": "711006e7",
   "metadata": {
    "scrolled": true
   },
   "outputs": [],
   "source": [
    "\n",
    "data = pd.read_csv('mydata.csv',encoding='unicode_escape',header = 0,parse_dates=[7])\n",
    "data"
   ]
  },
  {
   "cell_type": "code",
   "execution_count": null,
   "id": "c71dcd6b",
   "metadata": {},
   "outputs": [],
   "source": [
    "#rename一下因为读进来的时候不知道为啥有乱码\n",
    "\n",
    "data.rename(columns={\"ï»¿PO Number\":\"PO Number\"},inplace=True)\n",
    "data['Ship Date'] = data['Ship Date'].dt.month\n",
    "data"
   ]
  },
  {
   "cell_type": "code",
   "execution_count": null,
   "id": "70d4fe77",
   "metadata": {},
   "outputs": [],
   "source": [
    "data.iloc[1,7]"
   ]
  },
  {
   "cell_type": "code",
   "execution_count": null,
   "id": "43d4940e",
   "metadata": {},
   "outputs": [],
   "source": [
    "# data.to_csv('test.csv')"
   ]
  },
  {
   "cell_type": "code",
   "execution_count": null,
   "id": "1f0beb80",
   "metadata": {},
   "outputs": [],
   "source": [
    "#此时的data是350多行，后面400多行是merge的时候的逻辑，所以特殊数据在这里处理\n",
    "\n",
    "#对绿色特殊数据处理\n",
    "# 这个函数的输入是指是1月2月还是3月\n",
    "bound = data[\"Open Quantity\"].count()\n",
    "def specialdata_green_1(x):\n",
    "#     bound = data[\"Open Quantity\"].count()\n",
    "    tmp = 0#绿色部分有两种特殊数字要处理,这是那个落单的\n",
    "    \n",
    "    for i in range(0, bound):\n",
    "        if data.iloc[i,7] == int(x) and data.iloc[i,5] == \"1547595-A2-F\" and data.iloc[i,0] == 7700015845:\n",
    "            tmp += data.iloc[i,9]\n",
    "    return tmp/10000\n",
    "\n",
    "\n",
    "def specialdata_green_2(x):\n",
    "#     bound = data[\"Open Quantity\"].count()\n",
    "    tmp = 0#绿色部分有两种特殊数字要处理\n",
    "\n",
    "    for i in range(0, bound):\n",
    "        if data.iloc[i,7] == int(x) and data.iloc[i,5] == \"1547595-A0-F\" and data.iloc[i,0] == 7700010069:\n",
    "            tmp += data.iloc[i,9]\n",
    "        elif data.iloc[i,7] == int(x) and data.iloc[i,5] == \"1547595-A2-F\" and data.iloc[i,0] == 7700010069:\n",
    "            tmp += data.iloc[i,9]\n",
    "    return tmp/10000\n",
    "\n",
    "\n",
    "    \n",
    "\n",
    "\n",
    "\n",
    "def specialdata_yellow(x):\n",
    "#     bound = data[\"Open Quantity\"].count()\n",
    "    tmp = 0\n",
    "    for i in range(0, bound):\n",
    "        if data.iloc[i,7] == int(x) and data.iloc[i,5] == \"1693247-47-D\" and data.iloc[i,0] == 7700016103:\n",
    "            tmp += data.iloc[i,9]\n",
    "        elif data.iloc[i,7] == int(x) and data.iloc[i,5] == \"1693247-27-D\" and data.iloc[i,0] == 7700016103:\n",
    "            tmp += data.iloc[i,9]\n",
    "    return tmp/10000\n",
    "\n",
    "\n",
    "\n",
    "\n",
    "def specialdata_red(x):  #红色的那几个数字硬编码\n",
    "    bound = data[\"Open Quantity\"].count()\n",
    "    tmp = 0\n",
    "    for i in range(0, bound):\n",
    "        if data.iloc[i,7] == int(x) and data.iloc[i,5] == \"1108202-00-M\" and data.iloc[i,0] == 7700013617:\n",
    "            tmp += data.iloc[i,9]\n",
    "        elif data.iloc[i,7] == int(x) and data.iloc[i,5] == \"1108202-00-M\" and data.iloc[i,0] == 7700015582:\n",
    "            tmp += data.iloc[i,9]\n",
    "        elif data.iloc[i,7] == int(x) and data.iloc[i,5] == \"1108202-01-M\" and data.iloc[i,0] == 7700002394:\n",
    "            tmp += data.iloc[i,9]\n",
    "        elif data.iloc[i,7] == int(x) and data.iloc[i,5] == \"1108202-00-N\" and data.iloc[i,0] == 7700013617:\n",
    "            tmp += data.iloc[i,9]\n",
    "    return tmp/10000\n",
    "\n",
    "    \n",
    "    \n",
    "    \n",
    "  "
   ]
  },
  {
   "cell_type": "code",
   "execution_count": null,
   "id": "8b6ee2c7",
   "metadata": {},
   "outputs": [],
   "source": [
    "#用michael这个表给缺乏物料代码的data表，加上物料代码这列\n",
    "#df2 = pd.read_excel('Copy of Exported_Part_Release_Data.xlsx', sheet_name = 'statistics')\n",
    "michael = pd.read_excel('Copy of Exported_Part_Release_Data.xlsx',sheet_name = 'michael')\n",
    "michael.rename(columns={\"ï»¿Part Number\":\"Part Number\"},inplace=True)\n",
    "#merge data和michael表，也就是给data表加上物料代码得到data_with_wldm，data_with_wldm是比较全面完整，但是未经分类处理的数据\n",
    "data_with_wldm = data.merge(michael, on='Part Number',left_index=False, right_index=False, sort=False)\n"
   ]
  },
  {
   "cell_type": "code",
   "execution_count": null,
   "id": "ff1e4c4f",
   "metadata": {},
   "outputs": [],
   "source": [
    "# michael = pd.read_excel('Copy of Exported_Part_Release_Data.xlsx', sheet_name = 'michael')\n",
    "# michael.rename(columns={\"ï»¿Part Number\":\"Part Number\"},inplace=True)\n",
    "# data_with_wldm = data.merge(michael, on='Part Number',left_index=False, right_index=False, sort=False)\n"
   ]
  },
  {
   "cell_type": "code",
   "execution_count": null,
   "id": "6c9f977c",
   "metadata": {},
   "outputs": [],
   "source": [
    "data_with_wldm"
   ]
  },
  {
   "cell_type": "markdown",
   "id": "08872a07",
   "metadata": {},
   "source": [
    "#### 生成我们想要的数据内容以供填充"
   ]
  },
  {
   "cell_type": "code",
   "execution_count": null,
   "id": "c78f5d83",
   "metadata": {},
   "outputs": [],
   "source": [
    "# data_with_wldm.to_csv('test.csv')"
   ]
  },
  {
   "cell_type": "code",
   "execution_count": null,
   "id": "d59c6596",
   "metadata": {},
   "outputs": [],
   "source": [
    "data_with_wldm['Open Quantity'] = data_with_wldm['Open Quantity']/10000"
   ]
  },
  {
   "cell_type": "code",
   "execution_count": null,
   "id": "393ffd79",
   "metadata": {},
   "outputs": [],
   "source": [
    "data_with_wldm.iloc[0,7]"
   ]
  },
  {
   "cell_type": "code",
   "execution_count": null,
   "id": "c1b04370",
   "metadata": {
    "scrolled": true
   },
   "outputs": [],
   "source": [
    "#split方法，dataframe的类型，是从data_with_wldm来的\n",
    "split = data_with_wldm.groupby([\"Part Number\",\"Ship Date\"])[\"Open Quantity\"].sum().reset_index(name = \"sum\")\n",
    "# split[\"summp\"] = split[\"sum\"]/10000\n",
    "# split.drop(labels=[\"sum\"],axis=1,inplace=True)\n",
    "split"
   ]
  },
  {
   "cell_type": "markdown",
   "id": "9814b662",
   "metadata": {},
   "source": [
    "##### 此时得到split，即我们希望的数据的雏形，但是还不够，所以给这个dataframe加上物料代码和po number"
   ]
  },
  {
   "cell_type": "code",
   "execution_count": null,
   "id": "896b4767",
   "metadata": {},
   "outputs": [],
   "source": [
    "df1 = split\n",
    "df2 = pd.read_excel('Copy of Exported_Part_Release_Data.xlsx', sheet_name = 'statistics')\n",
    "# df2 = pd.read_csv('michael.csv')\n",
    "\n",
    "\n",
    "data_to_fill = df1.merge(df2, on='Part Number',left_index=False, right_index=False, sort=False)\n",
    "\n",
    "#修改下data_to_fill的列的位置\n",
    "fill_in = data_to_fill[\"fill_in\"]\n",
    "data_to_fill.drop(labels=[\"fill_in\"],axis=1,inplace = True)\n",
    "data_to_fill.insert(0, 'fill_in', fill_in)\n",
    "\n",
    "#改写fill_in 列的名字方便vlookup索引\n",
    "data_to_fill.rename(columns={\"fill_in\":\"wuliao_code\"},inplace=True)\n",
    "\n",
    "data_to_fill"
   ]
  },
  {
   "cell_type": "markdown",
   "id": "c995347b",
   "metadata": {},
   "source": [
    "#### 把一个大的data_to_fill分成三个小表，后面append到输出的excel上，方便vlookup"
   ]
  },
  {
   "cell_type": "code",
   "execution_count": null,
   "id": "066703bf",
   "metadata": {},
   "outputs": [],
   "source": [
    "groups = data_to_fill.groupby(\"Ship Date\")\n",
    "a = int(a)\n",
    "b = int(b)\n",
    "c = int(c)\n",
    "\n",
    "#三个小表\n",
    "data_to_fill_A = groups.get_group(a)\n",
    "data_to_fill_B = groups.get_group(b)\n",
    "data_to_fill_C = groups.get_group(c)\n",
    "\n"
   ]
  },
  {
   "cell_type": "code",
   "execution_count": null,
   "id": "ba991af6",
   "metadata": {},
   "outputs": [],
   "source": [
    "data_to_fill"
   ]
  },
  {
   "cell_type": "markdown",
   "id": "d331442d",
   "metadata": {},
   "source": [
    "#### 现在是前期处理，需要把三个data_to_fill的数据填写到我们被要求填写的表里来，以方便做vlookup"
   ]
  },
  {
   "cell_type": "code",
   "execution_count": null,
   "id": "42a53413",
   "metadata": {},
   "outputs": [],
   "source": [
    "#把客户发展部2023.3-2023.5预测.xlsx这个表稍作修改，方便vlookup了\n",
    "writer = pd.ExcelWriter('客户发展部2023.3-2023.5预测.xlsx', mode='a', engine='openpyxl',if_sheet_exists='replace')\n",
    "\n",
    "#把data_to_fill放在客户发展部2023.3-2023.5预测.xlsx一起，这样客户发展部这个表就有两个sheet了\n",
    "data_to_fill_A.to_excel(writer, sheet_name='工具sheet_A')\n",
    "data_to_fill_B.to_excel(writer, sheet_name='工具sheet_B')\n",
    "data_to_fill_C.to_excel(writer, sheet_name='工具sheet_C')\n",
    "data_to_fill.to_excel(writer, sheet_name='工具sheet_总')\n",
    "\n",
    "writer.save()\n",
    "writer.close()\n",
    "\n"
   ]
  },
  {
   "cell_type": "markdown",
   "id": "2ec9d44e",
   "metadata": {},
   "source": [
    "#### 核心：vlookup"
   ]
  },
  {
   "cell_type": "code",
   "execution_count": null,
   "id": "5069f3cc",
   "metadata": {},
   "outputs": [],
   "source": [
    "workbook = load_workbook(\"客户发展部2023.3-2023.5预测.xlsx\",data_only=False)#客户发展部2023.3-2023.5预测.xlsx就是我们要填写的表\n",
    "sheet = workbook[\"查看销售金额2022.11-2023.1\"]\n",
    "#行和列被隐藏的展开\n",
    "\n",
    "sheet.column_dimensions.group(start='A', end='CJ', hidden=False)\n",
    "\n",
    "#先把所有行都展开\n",
    "sheet.row_dimensions.group(start=1, end=1000, hidden=True)\n",
    "\n",
    "\n",
    "\n",
    "#找到到底在哪几列填\n",
    "# need_a = \"2023.3月计划数量\"\n",
    "# need_b = \"2023.4月计划数量\"\n",
    "# need_c = \"2023.5月计划数量\"\n",
    "#现在找到具体我们要填的列是fill_in_location_1，fill_in_location_2，fill_in_location_3\n",
    "for x in range(1, sheet.max_column + 1):\n",
    "    if sheet.cell(1,x).value.strip() == need_a:\n",
    "        fill_in_location_A = x\n",
    "    elif sheet.cell(1,x).value.strip() == need_b:\n",
    "        fill_in_location_B = x\n",
    "    elif sheet.cell(1,x).value.strip() == need_c:\n",
    "        fill_in_location_C = x\n",
    "#这里需要找到右半部分有需要折叠的几列\n",
    "# 2023.5月销售单价（原币） \n",
    "for y in range(1, sheet.max_column + 1):\n",
    "    if sheet.cell(1,y).value.strip() == fold_yuanbi:\n",
    "        fold_location_yuanbi = y\n",
    "    elif sheet.cell(1,y).value.strip() == fold_xiaoshou:\n",
    "        fold_location_xiaoshou = y\n",
    "\n",
    "\n",
    "\n",
    "\n",
    "#出现N/A值不美观，这几个变量用在后面\n",
    "match_wldm = list(data_to_fill[\"wuliao_code\"])\n",
    "match_wldm_A = list(data_to_fill_A[\"wuliao_code\"])\n",
    "match_wldm_B = list(data_to_fill_B[\"wuliao_code\"])\n",
    "match_wldm_C = list(data_to_fill_C[\"wuliao_code\"])"
   ]
  },
  {
   "cell_type": "code",
   "execution_count": null,
   "id": "dc07c947",
   "metadata": {},
   "outputs": [],
   "source": [
    "match_wldm_A"
   ]
  },
  {
   "cell_type": "code",
   "execution_count": null,
   "id": "ce5b3c33",
   "metadata": {},
   "outputs": [],
   "source": [
    "#store_hide_row是后面用在折叠显示行的时候用的\n",
    "store_no_hide_row = [1]\n",
    "# store_no_hide_row = []\n",
    "\n",
    "for i in range(2,sheet.max_row+1):\n",
    "    if sheet[f\"F{i}\"].value in sales:\n",
    "#     if sheet[f\"F{i}\"].value == \"廖剑涛/Kirk Kralapp/Joana\" or sheet[f\"F{i}\"].value == \"Jiantao/Joana\" or sheet[f\"F{i}\"].value == \"廖剑涛\":\n",
    "        #下面执行填写过程,如果第i行是我们要填的：\n",
    "        #如果第i行我们能事先确定这次是填不进去内容的，我们就先把它替换成0\n",
    "        if sheet[f\"R{i}\"].value not in match_wldm:\n",
    "            continue\n",
    "        else:\n",
    "            #赋值填颜色，对A列操作\n",
    "            sheet.cell(i,fill_in_location_A).fill = PatternFill(start_color=\"FF9999\", fill_type=\"solid\")\n",
    "            sheet.cell(i,fill_in_location_B).fill = PatternFill(start_color=\"FF9999\", fill_type=\"solid\")\n",
    "            sheet.cell(i,fill_in_location_C).fill = PatternFill(start_color=\"FF9999\", fill_type=\"solid\")\n",
    "            if sheet[f\"R{i}\"].value not in match_wldm_A:\n",
    "                sheet.cell(i,fill_in_location_A).value = 0\n",
    "            else:\n",
    "                sheet.cell(i,fill_in_location_A).value = f\"=VLOOKUP(R{i},'工具sheet_A'!B:F,4,0)\"\n",
    "#                 sheet.cell(i,fill_in_location_A).fill = PatternFill(start_color=\"FF9999\", fill_type=\"solid\")\n",
    "            #赋值填颜色，对B列操作\n",
    "            if sheet[f\"R{i}\"].value not in match_wldm_B:\n",
    "                sheet.cell(i,fill_in_location_B).value = 0\n",
    "            else:\n",
    "                sheet.cell(i,fill_in_location_B).value = f\"=VLOOKUP(R{i},'工具sheet_B'!B:F,4,0)\"\n",
    "#                 sheet.cell(i,fill_in_location_B).fill = PatternFill(start_color=\"FF9999\", fill_type=\"solid\")\n",
    "            #赋值填颜色，对C列操作\n",
    "            if sheet[f\"R{i}\"].value not in match_wldm_C:\n",
    "                sheet.cell(i,fill_in_location_C).value = 0\n",
    "            else:\n",
    "                sheet.cell(i,fill_in_location_C).value = f\"=VLOOKUP(R{i},'工具sheet_C'!B:F,4,0)\"\n",
    "#                 sheet.cell(i,fill_in_location_C).fill = PatternFill(start_color=\"FF9999\", fill_type=\"solid\")\n",
    "#         sheet.cell(i,fill_in_location_1).value = '工具sheet'!B5\n",
    "            if sheet[f\"R{i}\"].value in match_wldm_A or sheet[f\"R{i}\"].value in match_wldm_B or sheet[f\"R{i}\"].value in match_wldm_C:\n",
    "                #在客户图号填颜色\n",
    "                sheet.cell(i,24).fill = PatternFill(start_color=\"90EE90\", fill_type=\"solid\")\n",
    "                store_no_hide_row.append(i)\n",
    "            \n",
    "\n",
    "\n",
    "\n"
   ]
  },
  {
   "cell_type": "code",
   "execution_count": null,
   "id": "d1cd99d5",
   "metadata": {},
   "outputs": [],
   "source": []
  },
  {
   "cell_type": "code",
   "execution_count": null,
   "id": "eb590337",
   "metadata": {},
   "outputs": [],
   "source": [
    "#特殊值要改一下，调用前面的函数\n",
    "for i in range(2,sheet.max_row+1):\n",
    "    #红色数字，直接输入替换值，并改变客户图号\n",
    "    if sheet[f\"R{i}\"].value == \"S/C/1108202-10-M/#/#\":\n",
    "        sheet.cell(i,fill_in_location_A).value = specialdata_red(int(a))\n",
    "        sheet.cell(i,fill_in_location_B).value = specialdata_red(int(b))\n",
    "        sheet.cell(i,fill_in_location_C).value = specialdata_red(int(c))\n",
    "        sheet.cell(i,24).value = \"1108202-00-M + 1108202-01-M + 1108202-00-N\"\n",
    "    #黄色数字，输入替换值，改变客户图号\n",
    "    elif sheet[f\"R{i}\"].value == \"S/C/1693247-20-C/#/#\":\n",
    "        sheet.cell(i,fill_in_location_A).value = specialdata_yellow(int(a))\n",
    "        sheet.cell(i,fill_in_location_B).value = specialdata_yellow(int(b))\n",
    "        sheet.cell(i,fill_in_location_C).value = specialdata_yellow(int(c))\n",
    "        sheet.cell(i,24).value = \"1693247-47-D + 1693247-27-D\"\n",
    "        \n",
    "\n",
    "green_1 = 85\n",
    "green_2 = 86\n",
    "        \n",
    "#绿色数字，逻辑上有点麻烦，因为85行和86行分别对应那个人是人为规定的，所以硬写了,分别为85行和86行，调用不同的\n",
    "sheet.cell(green_1,fill_in_location_A).value = specialdata_green_1(int(a))\n",
    "sheet.cell(green_1,fill_in_location_B).value = specialdata_green_1(int(b))\n",
    "sheet.cell(green_1,fill_in_location_C).value = specialdata_green_1(int(c))\n",
    "sheet.cell(green_1,24).value = \"1547595-A2-F Austin\"\n",
    "\n",
    "\n",
    "sheet.cell(green_2,fill_in_location_A).value = specialdata_green_2(int(a))\n",
    "sheet.cell(green_2,fill_in_location_B).value = specialdata_green_2(int(b))\n",
    "sheet.cell(green_2,fill_in_location_C).value = specialdata_green_2(int(c))\n",
    "sheet.cell(green_2,24).value = \"1547595-A2-F + 1547595-A0-F\"\n",
    "\n",
    "\n",
    "\n",
    "        \n",
    "    \n",
    "    \n"
   ]
  },
  {
   "cell_type": "code",
   "execution_count": null,
   "id": "d0353a9f",
   "metadata": {},
   "outputs": [],
   "source": [
    "#此时的data是350多行，后面400多行是merge的时候的逻辑，所以特殊数据在这里处理\n",
    "\n",
    "#对绿色特殊数据处理\n",
    "# 这个函数的输入是指是1月2月还是3月\n",
    "\n",
    "\n",
    "\n",
    "def specialdata_green_1(x):\n",
    "    bound = data[\"Open Quantity\"].count()\n",
    "    tmp = 0#绿色部分有两种特殊数字要处理,这是那个落单的\n",
    "    \n",
    "    for i in range(0, bound):\n",
    "        if data.iloc[i,7] == int(x) and data.iloc[i,5] == \"1547595-A2-F\" and data.iloc[i,0] == 7700015845:\n",
    "            tmp += data.iloc[i,9]\n",
    "    return tmp\n",
    "\n",
    "\n",
    "def specialdata_green_2(x):\n",
    "    bound = data[\"Open Quantity\"].count()\n",
    "    tmp = 0#绿色部分有两种特殊数字要处理\n",
    "\n",
    "    for i in range(0, bound):\n",
    "        if data.iloc[i,7] == int(x) and data.iloc[i,5] == \"1547595-A0-F\" and data.iloc[i,0] == 7700010069:\n",
    "            tmp += data.iloc[i,9]\n",
    "        elif data.iloc[i,7] == int(x) and data.iloc[i,5] == \"1547595-A2-F\" and data.iloc[i,0] == 7700010069:\n",
    "            tmp += data.iloc[i,9]\n",
    "    return tmp\n",
    "\n",
    "\n",
    "    \n",
    "\n",
    "\n",
    "\n",
    "def specialdata_yellow(x):\n",
    "    bound = data[\"Open Quantity\"].count()\n",
    "    tmp = 0\n",
    "    for i in range(0, bound):\n",
    "        if data.iloc[i,7] == int(x) and data.iloc[i,5] == \"1693247-47-D\" and data.iloc[i,0] == 7700016103:\n",
    "            tmp += data.iloc[i,9]\n",
    "        elif data.iloc[i,7] == int(x) and data.iloc[i,5] == \"1693247-27-D\" and data.iloc[i,0] == 7700016103:\n",
    "            tmp += data.iloc[i,9]\n",
    "    return tmp\n",
    "\n",
    "\n",
    "\n",
    "\n",
    "def specialdata_red(x):  #红色的那几个数字硬编码\n",
    "    bound = data[\"Open Quantity\"].count()\n",
    "    tmp = 0\n",
    "    for i in range(0, bound):\n",
    "        if data.iloc[i,7] == int(x) and data.iloc[i,5] == \"1108202-00-M\" and data.iloc[i,0] == 7700013617:\n",
    "            tmp += data.iloc[i,9]\n",
    "        elif data.iloc[i,7] == int(x) and data.iloc[i,5] == \"1108202-00-M\" and data.iloc[i,0] == 7700015582:\n",
    "            tmp += data.iloc[i,9]\n",
    "        elif data.iloc[i,7] == int(x) and data.iloc[i,5] == \"1108202-01-M\" and data.iloc[i,0] == 7700002394:\n",
    "            tmp += data.iloc[i,9]\n",
    "        elif data.iloc[i,7] == int(x) and data.iloc[i,5] == \"1108202-00-N\" and data.iloc[i,0] == 7700013617:\n",
    "            tmp += data.iloc[i,9]\n",
    "    return tmp\n",
    "\n",
    "    \n",
    "    \n",
    "    \n",
    "  "
   ]
  },
  {
   "cell_type": "code",
   "execution_count": null,
   "id": "30b6d707",
   "metadata": {},
   "outputs": [],
   "source": [
    "#找出哪些行被填进入了颜色，用来后面折起来"
   ]
  },
  {
   "cell_type": "markdown",
   "id": "9668c3c3",
   "metadata": {},
   "source": [
    "#### 列的隐藏"
   ]
  },
  {
   "cell_type": "code",
   "execution_count": null,
   "id": "0e090e6e",
   "metadata": {},
   "outputs": [],
   "source": [
    "\n",
    "\n",
    "# for col in ['A', 'B', 'C','D','E','F','G','H']:\n",
    "#     sheet.column_dimensions[col].hidden= False\n",
    "# for col not in ['A', 'B', 'C','D','E']:\n",
    "#     sheet.column_dimensions[col].hidden= False\n",
    "\n",
    "# #先展开再隐藏：\n",
    "# sheet.column_dimensions.group(start='A', end='CJ', hidden=False)\n",
    "#在表的右半部分有几个不好处理的\n",
    "column_start1 = op.utils.cell.column_index_from_string('AA')\n",
    "column_start2 = op.utils.cell.column_index_from_string('BR')\n",
    "\n",
    "for idx in range(column_start1, fill_in_location_A):\n",
    "    sheet.column_dimensions[op.utils.get_column_letter(idx)].hidden = True\n",
    "    \n",
    "for idx in range(fill_in_location_C+1,fold_location_yuanbi):\n",
    "    sheet.column_dimensions[op.utils.get_column_letter(idx)].hidden = True\n",
    "    \n",
    "for idx in range(column_start2+1,fold_location_xiaoshou):\n",
    "    sheet.column_dimensions[op.utils.get_column_letter(idx)].hidden = True\n",
    "\n",
    "    \n",
    "\n",
    "\n",
    "\n",
    "\n",
    "\n",
    "#隐藏该隐藏的：\n",
    "sheet.column_dimensions.group(start='A', end='E', hidden=True)\n",
    "sheet.column_dimensions.group(start='G', end='H', hidden=True)\n",
    "sheet.column_dimensions.group(start='J', end='M', hidden=True)\n",
    "sheet.column_dimensions.group(start='O', end='Q', hidden=True)\n",
    "sheet.column_dimensions.group(start='S', end='T', hidden=True)\n",
    "sheet.column_dimensions['W'].hidden= True\n",
    "sheet.column_dimensions.group(start='Y', end='Z', hidden=True)"
   ]
  },
  {
   "cell_type": "markdown",
   "id": "df9b84a9",
   "metadata": {},
   "source": [
    "#### 行的隐藏"
   ]
  },
  {
   "cell_type": "code",
   "execution_count": null,
   "id": "8496f7c5",
   "metadata": {},
   "outputs": [],
   "source": [
    "#行的隐藏\n",
    "#先把所有行都展开\n",
    "# sheet.row_dimensions.group(start=1, end=555, hidden=True)\n",
    "\n",
    "#找出该显示的\n",
    "# for x in range(1, sheet.max_row + 1):\n",
    "#     if sheet.cell(x,6).value == \"廖剑涛\" or sheet.cell(x,6).value == \"廖剑涛/Kirk Kralapp/Joana\":\n",
    "#         store_hide_row.append(x)\n",
    "#显示\n",
    "for r in store_no_hide_row:\n",
    "    sheet.row_dimensions[r].hidden= False\n",
    "    \n",
    "\n",
    "        \n",
    "    \n",
    "    "
   ]
  },
  {
   "cell_type": "markdown",
   "id": "587221fa",
   "metadata": {},
   "source": [
    "#### 保存计算结果"
   ]
  },
  {
   "cell_type": "code",
   "execution_count": null,
   "id": "fa9c29a9",
   "metadata": {},
   "outputs": [],
   "source": [
    "workbook.save(filename = \"output.xlsx\")\n",
    "workbook.close()"
   ]
  },
  {
   "cell_type": "code",
   "execution_count": null,
   "id": "e67d2ffa",
   "metadata": {},
   "outputs": [],
   "source": [
    "#模拟人的手动打开关闭excel，以保留数据值\n",
    "excel_app = xlwings.App(visible=False)\n",
    "excel_book = excel_app.books.open('output.xlsx')\n",
    "\n",
    "excel_book.save()\n",
    "excel_book.close()\n",
    "excel_app.quit()\n",
    "\n",
    "assist_workbook = load_workbook(filename='output.xlsx', data_only=True)\n",
    "# assist_sheet = workbook[\"查看销售金额2022.11-2023.1\"]\n",
    "assist_workbook.save(filename = \"assist.xlsx\")\n",
    "assist_workbook.close()"
   ]
  },
  {
   "cell_type": "code",
   "execution_count": null,
   "id": "74b9c458",
   "metadata": {},
   "outputs": [],
   "source": [
    "# #把assist的值粘贴回output\n",
    "\n",
    "# #sheet.cell(i,24).value = \"1693247-47-D + 1693247-27-D\"\n",
    "\n",
    "output_workbook = load_workbook(\"output.xlsx\",data_only=False)\n",
    "output_sheet = output_workbook[\"查看销售金额2022.11-2023.1\"]\n",
    "\n",
    "assist_workbook = load_workbook(filename='assist.xlsx', data_only=True)\n",
    "assist_sheet = assist_workbook[\"查看销售金额2022.11-2023.1\"]\n",
    "for i in store_no_hide_row:\n",
    "    change_a = assist_sheet.cell(i,fill_in_location_A).value\n",
    "    output_sheet.cell(i,fill_in_location_A).value = change_a\n",
    "    change_b = assist_sheet.cell(i,fill_in_location_B).value\n",
    "    output_sheet.cell(i,fill_in_location_B).value = change_b\n",
    "    change_c = assist_sheet.cell(i,fill_in_location_C).value\n",
    "    output_sheet.cell(i,fill_in_location_C).value = change_c\n",
    "#删除不要的sheet\n",
    "output_workbook.remove(output_workbook[\"工具sheet_A\"])\n",
    "output_workbook.remove(output_workbook[\"工具sheet_B\"])\n",
    "output_workbook.remove(output_workbook[\"工具sheet_C\"])\n",
    "output_workbook.remove(output_workbook[\"工具sheet_总\"])\n",
    "\n",
    "output_workbook.save(filename = \"output.xlsx\")\n",
    "output_workbook.close()   "
   ]
  },
  {
   "cell_type": "code",
   "execution_count": null,
   "id": "ea609980",
   "metadata": {},
   "outputs": [],
   "source": [
    "os.remove('Exported_Part_Release_Data_Bulk2.xlsx')\n",
    "os.remove('mydata.csv')\n",
    "os.remove('assist.xlsx')\n"
   ]
  }
 ],
 "metadata": {
  "kernelspec": {
   "display_name": "Python 3 (ipykernel)",
   "language": "python",
   "name": "python3"
  },
  "language_info": {
   "codemirror_mode": {
    "name": "ipython",
    "version": 3
   },
   "file_extension": ".py",
   "mimetype": "text/x-python",
   "name": "python",
   "nbconvert_exporter": "python",
   "pygments_lexer": "ipython3",
   "version": "3.9.12"
  }
 },
 "nbformat": 4,
 "nbformat_minor": 5
}
