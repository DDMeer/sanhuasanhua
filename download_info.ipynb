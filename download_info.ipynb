{
 "cells": [
  {
   "cell_type": "code",
   "execution_count": 1,
   "id": "378165fe",
   "metadata": {},
   "outputs": [],
   "source": [
    "from selenium import webdriver \n",
    "from selenium.webdriver.support.ui import WebDriverWait\n",
    "from PIL import Image\n",
    "from selenium.webdriver import Chrome\n",
    "from selenium.webdriver.common.by import By\n",
    "from selenium.webdriver.common.action_chains import ActionChains"
   ]
  },
  {
   "cell_type": "markdown",
   "id": "a77d2a2f",
   "metadata": {},
   "source": [
    "# 在这里手动确定需要哪个时间段"
   ]
  },
  {
   "cell_type": "code",
   "execution_count": 2,
   "id": "e826cd9e",
   "metadata": {},
   "outputs": [],
   "source": [
    "input_date = \"03/01/2023 - 05/31/2023\""
   ]
  },
  {
   "cell_type": "code",
   "execution_count": 3,
   "id": "b03ef19b",
   "metadata": {},
   "outputs": [],
   "source": [
    "import os\n",
    "import os.path\n",
    "import shutil\n",
    "import pandas as pd\n",
    "import numpy as np\n",
    "\n",
    "import time\n",
    "from datetime import date, datetime, timedelta\n",
    "\n",
    "from selenium import webdriver\n",
    "# from getpass import getpass\n",
    "\n"
   ]
  },
  {
   "cell_type": "code",
   "execution_count": 4,
   "id": "0da8ab2c",
   "metadata": {},
   "outputs": [],
   "source": [
    "driver = webdriver.Chrome()\n",
    "driver.get(\"https://suppliers.teslamotors.com/\")\n",
    "driver.refresh()\n",
    "\n",
    "#输入账号\n",
    "username_textbox = driver.find_element(by='id', value='form-input-identity')\n",
    "username_textbox.send_keys('hannah.peng@sanhuagroup.com')\n",
    "\n",
    "\n",
    "next_button = driver.find_element(by='id', value='form-submit-continue')\n",
    "next_button.submit()\n",
    "\n",
    "#输入密码\n",
    "password_textbox = driver.find_element(by='id', value='form-input-credential')\n",
    "password_textbox.send_keys('+@zgtyR_KN3aSC5')\n",
    "time.sleep(1)\n",
    "signin_button = driver.find_element(by='id', value='form-submit-continue')\n",
    "signin_button.submit()\n",
    "#提交密码后已经成功登录\n",
    "time.sleep(1)\n",
    "#同意页面\n",
    "# agree_button = driver.find_element(by='id', value='ctl00_PlaceHolderMain_btnAgree')\n",
    "agree_button = driver.find_element('id', 'ctl00_PlaceHolderMain_btnAgree')\n",
    "agree_button.click()\n",
    "# driver.refresh()\n",
    "time.sleep(1)\n",
    "#知情页面\n",
    "\n",
    "driver.get('https://suppliers.tesla.com/acknowledge')\n",
    "time.sleep(2)\n",
    "# ackownledge_button = driver.find_element(By.CLASS_NAME, 'tsl-button-wrapper')\n",
    "# ackownledge_button = driver.find_elements_by_class_name('tsl-button-wrapper')[1]\n",
    "# ackownledge_button = driver.find_elements_by_class_name('tsl-button-wrapper')\n",
    "# test = len(driver.find_elements_by_class_name('tsl-button-wrapper'))\n",
    "# ackownledge_button.click()\n",
    "\n",
    "\n",
    "ackownledge_button = driver.find_element_by_xpath(\"(//span[normalize-space()='Agree & Acknowledge'])[1]\")\n",
    "\n",
    "# len(driver.find_element_by_xpath(\"(//span[normalize-space()='Agree & Acknowledge'])[1]\"))\n",
    "\n",
    "ackownledge_button.click()\n",
    "\n",
    "\n",
    "\n"
   ]
  },
  {
   "cell_type": "code",
   "execution_count": 5,
   "id": "2a98590b",
   "metadata": {},
   "outputs": [],
   "source": [
    "#搜数据页面\n",
    "driver.get('https://suppliers.tesla.com/supply-chain-planning/part-release-data')\n",
    "\n",
    "#点选supplier\n",
    "#\n",
    "time.sleep(4)\n",
    "\n",
    "# len(driver.find_elements_by_class_name(\"tsl-icon.datepicker-toggle.tsl-size-medium\"))\n",
    "\n",
    "\n",
    "\n",
    "chose_supplier_1_1 = driver.find_element_by_xpath(\"(//div[@class='tsl-select-value'])[1]\")\n",
    "chose_supplier_1_1.click()\n",
    "\n",
    "\n",
    "chose_supplier_1_2 = driver.find_element_by_xpath(\"(//span[@class='tsl-option-text'])[1]\")\n",
    "chose_supplier_1_2.click()\n",
    "\n",
    "# chose_supplier_1_1 = driver.find_elements_by_class_name('tsl-option-text')[1]\n",
    "time.sleep(3)\n",
    "\n",
    "\n",
    "# # 点选PO号(已实现)看起来tsl-select-0只对应这一个框？\n",
    "# chose_supplier_2_1 = driver.find_element_by_xpath(\"(//div[@class='tsl-multiselect-trigger'])[1]\")\n",
    "# chose_supplier_2_1.click()\n",
    "\n",
    "# chose_supplier_2_2 = driver.find_element_by_xpath(\"(//span[@class='tsl-checkbox-label'])[1]\")\n",
    "# chose_supplier_2_2.click()\n",
    "\n",
    "# len(driver.find_elements_by_class_name(\"tsl-input-0.tsl-input-element.datepicker-field.tsl-scrim-light.tsl-shape-round.tsl-size-small.cdk-text-field-autofill-monitored.ng-pristine.ng-valid.ng-touched\"))\n",
    "# len(driver.find_elements_by_class_name(\"cdk-text-field-autofill-monitored\"))\n",
    "# len(driver.find_elements_by_class_name('tsl-size-small'))\n",
    "#tsl-size-small\n",
    "#tsl-option-text\n",
    "\n",
    "# #点选日期\n",
    "\n",
    "# chose_supplier_3_1 = driver.find_element_by_xpath(\"(//input[@id='tsl-input-0'])[1]\").send_keys(\"03/01/2023 - 05/01/2023\")\n",
    "# chose_supplier_3_1.click()\n"
   ]
  },
  {
   "cell_type": "code",
   "execution_count": 6,
   "id": "a58e9588",
   "metadata": {},
   "outputs": [],
   "source": [
    "# 点选PO号(已实现)看起来tsl-select-0只对应这一个框？\n",
    "chose_supplier_2_1 = driver.find_element_by_xpath(\"(//div[@class='tsl-multiselect-trigger'])[1]\")\n",
    "chose_supplier_2_1.click()\n",
    "\n",
    "chose_supplier_2_2 = driver.find_element_by_xpath(\"(//span[@class='tsl-checkbox-label'])[1]\")\n",
    "chose_supplier_2_2.click()\n",
    "\n",
    "time.sleep(2)\n",
    "\n",
    "# blank = driver.find_element_by_xpath(\"(//tsl-icon[@class='tsl-icon tsl-multiselect-arrow tsl-size-small'])[1]\")\n",
    "# blank.click()"
   ]
  },
  {
   "cell_type": "code",
   "execution_count": 7,
   "id": "61542e1b",
   "metadata": {},
   "outputs": [],
   "source": [
    "#输入日期\n",
    "\n",
    "chose_supplier_3_1 = driver.find_element_by_xpath(\"(//input[@id='tsl-input-0'])[1]\").send_keys(\"03/01/2023 - 05/01/2023\")\n",
    "# chose_supplier_3_1.click()\n",
    "time.sleep(2)"
   ]
  },
  {
   "cell_type": "code",
   "execution_count": 8,
   "id": "ec1c2f7d",
   "metadata": {},
   "outputs": [],
   "source": [
    "#空白处再点击一下\n",
    "#wait.until(EC.element_to_be_clickable((By.CSS_SELECTOR, \"div.dk-selected.attached.enabled\"))).click()\n",
    "# blank = driver.find_element_by_xpath(\"(//div[@class='cdk-overlay-backdrop cdk-overlay-transparent-backdrop cdk-overlay-backdrop-showing'])[1]\")\n",
    "# blank.click()"
   ]
  },
  {
   "cell_type": "code",
   "execution_count": 9,
   "id": "69d0fb35",
   "metadata": {},
   "outputs": [],
   "source": [
    "# ActionChains(driver).move_to_element(search_data).click().perform()"
   ]
  },
  {
   "cell_type": "code",
   "execution_count": 10,
   "id": "8470827b",
   "metadata": {},
   "outputs": [],
   "source": [
    "#确认search\n",
    "search_data = driver.find_element_by_xpath(\"(//button[@class='tsl-color-blue tsl-shape-round tsl-button tsl-size-small tsl-appearance-filled ng-star-inserted'])[1]\")\n",
    "# search_data.click()\n",
    "ActionChains(driver).move_to_element(search_data).click().perform()\n",
    "time.sleep(2)"
   ]
  },
  {
   "cell_type": "code",
   "execution_count": 11,
   "id": "13a44755",
   "metadata": {},
   "outputs": [],
   "source": [
    "#download all\n",
    "download_all = driver.find_element_by_xpath(\"(//span[normalize-space()='Download All Supplier Data'])[1]\")\n",
    "download_all.click()"
   ]
  },
  {
   "cell_type": "code",
   "execution_count": null,
   "id": "b8436643",
   "metadata": {},
   "outputs": [],
   "source": []
  }
 ],
 "metadata": {
  "kernelspec": {
   "display_name": "Python 3 (ipykernel)",
   "language": "python",
   "name": "python3"
  },
  "language_info": {
   "codemirror_mode": {
    "name": "ipython",
    "version": 3
   },
   "file_extension": ".py",
   "mimetype": "text/x-python",
   "name": "python",
   "nbconvert_exporter": "python",
   "pygments_lexer": "ipython3",
   "version": "3.9.12"
  }
 },
 "nbformat": 4,
 "nbformat_minor": 5
}
